{
 "cells": [
  {
   "cell_type": "code",
   "execution_count": 2,
   "metadata": {},
   "outputs": [],
   "source": [
    "import numpy as np\n",
    "import scipy.stats\n",
    "from numpy import random"
   ]
  },
  {
   "cell_type": "code",
   "execution_count": 33,
   "metadata": {},
   "outputs": [
    {
     "name": "stdout",
     "output_type": "stream",
     "text": [
      "1.3994710681361706\n",
      "0.6202626837334333\n"
     ]
    }
   ],
   "source": [
    "maxkl=0\n",
    "minkl=100\n",
    "for j in range(100):\n",
    "    KLD=0\n",
    "    for i in range(32):\n",
    "        x = random.normal(loc=0,scale=1,size=(32))\n",
    "        KLD += -0.5 * (np.log(np.var(x)) + 1 - np.square(np.mean(x)) - np.exp(np.log(np.var(x))))\n",
    "    maxkl=max(maxkl,KLD)\n",
    "    minkl=min(minkl,KLD)\n",
    "print(maxkl)\n",
    "print(minkl)\n",
    "# print(np.mean(x),np.var(x),x)\n",
    "# print(np.mean(y),np.var(y),y)\n",
    "# print(scipy.stats.entropy(x,y))"
   ]
  }
 ],
 "metadata": {
  "kernelspec": {
   "display_name": "plf",
   "language": "python",
   "name": "python3"
  },
  "language_info": {
   "codemirror_mode": {
    "name": "ipython",
    "version": 3
   },
   "file_extension": ".py",
   "mimetype": "text/x-python",
   "name": "python",
   "nbconvert_exporter": "python",
   "pygments_lexer": "ipython3",
   "version": "3.10.13"
  }
 },
 "nbformat": 4,
 "nbformat_minor": 2
}
